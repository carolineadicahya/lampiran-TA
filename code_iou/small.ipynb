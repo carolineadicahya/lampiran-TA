{
 "cells": [
  {
   "cell_type": "code",
   "execution_count": 3,
   "id": "a9d150b2",
   "metadata": {},
   "outputs": [],
   "source": [
    "import os\n",
    "import json\n",
    "import numpy as np\n",
    "import ultralytics\n",
    "from ultralytics import YOLO\n",
    "import cv2"
   ]
  },
  {
   "cell_type": "code",
   "execution_count": 4,
   "id": "a85d9c69",
   "metadata": {},
   "outputs": [],
   "source": [
    "models = {\n",
    "    \"no_aug_300\": YOLO(\"E:/Project TA/Caroline/runs/segment/train28/weights/best.pt\"),\n",
    "    \"aug_300\":    YOLO(\"E:/Project TA/Caroline/runs/segment/train8/weights/best.pt\"),\n",
    "}"
   ]
  },
  {
   "cell_type": "code",
   "execution_count": 5,
   "id": "ded78958",
   "metadata": {},
   "outputs": [],
   "source": [
    "# Path direktori\n",
    "images_dir = \"E:/Project TA/iou/Testing IoU/test/images\"\n",
    "labels_dir = \"E:/Project TA/iou/Testing IoU/test/labels\"\n",
    "output_dir = \"E:/Project TA/iou/predict_iou/small\" "
   ]
  },
  {
   "cell_type": "code",
   "execution_count": 6,
   "id": "6c86c09d",
   "metadata": {},
   "outputs": [],
   "source": [
    "os.makedirs(output_dir, exist_ok=True)"
   ]
  },
  {
   "cell_type": "code",
   "execution_count": 7,
   "id": "4c658228",
   "metadata": {},
   "outputs": [],
   "source": [
    "# Fungsi IoU\n",
    "def calculate_pairwise_iou_with_overlap_check(ground_truth, predicted, image_size):\n",
    "    pairwise_ious = []\n",
    "    for gt_polygon in ground_truth:\n",
    "        for pred_polygon in predicted:\n",
    "            gt_mask = np.zeros(image_size, dtype=np.uint8)\n",
    "            pred_mask = np.zeros(image_size, dtype=np.uint8)\n",
    "            cv2.fillPoly(gt_mask, [gt_polygon], 1)\n",
    "            cv2.fillPoly(pred_mask, [pred_polygon], 1)\n",
    "            intersection = np.logical_and(gt_mask, pred_mask).sum()\n",
    "            if intersection > 0:\n",
    "                union = np.logical_or(gt_mask, pred_mask).sum()\n",
    "                iou = intersection / union if union > 0 else 0\n",
    "                pairwise_ious.append((gt_polygon, pred_polygon, iou))\n",
    "    return pairwise_ious"
   ]
  },
  {
   "cell_type": "code",
   "execution_count": 8,
   "id": "d634e241",
   "metadata": {},
   "outputs": [
    {
     "name": "stdout",
     "output_type": "stream",
     "text": [
      "\n",
      "Memproses model: no_aug_300\n",
      "Gambar: banjir_jpg.rf.950c421f52bc7c06dfe21e7ad33117ae.jpg | TP: 0, FP: 1, FN: 0 | Precision: 0.00, Recall: 0.00, F1: 0.00\n",
      "Gambar: genangan_rumput_jpg.rf.2a5ba86b223a8c9cce6eca7b8c3345ae.jpg | TP: 1, FP: 0, FN: 0 | Precision: 1.00, Recall: 1.00, F1: 1.00\n"
     ]
    },
    {
     "name": "stderr",
     "output_type": "stream",
     "text": [
      "C:\\Users\\ASUS\\AppData\\Local\\Temp\\ipykernel_2640\\4157432045.py:49: DeprecationWarning: elementwise comparison failed; this will raise an error in the future.\n",
      "  gt_idx = ground_truth.index(gt)\n",
      "C:\\Users\\ASUS\\AppData\\Local\\Temp\\ipykernel_2640\\4157432045.py:50: DeprecationWarning: elementwise comparison failed; this will raise an error in the future.\n",
      "  pred_idx = predicted.index(pred)\n"
     ]
    },
    {
     "name": "stdout",
     "output_type": "stream",
     "text": [
      "Gambar: jalan_batu_jpeg.rf.5eb09403644b6701b2026399b6b50508.jpg | TP: 10, FP: 0, FN: 1 | Precision: 1.00, Recall: 0.91, F1: 0.95\n",
      "Gambar: lubang_genangan_jpg.rf.9f235615ec131e8c3375b0b755dd56d8.jpg | TP: 1, FP: 0, FN: 0 | Precision: 1.00, Recall: 1.00, F1: 1.00\n",
      "Gambar: lubang_jpeg.rf.7b4f2c57e411fb82b55c670f4784c838.jpg | TP: 0, FP: 0, FN: 0 | Precision: 0.00, Recall: 0.00, F1: 0.00\n",
      "Hasil disimpan di folder: E:/Project TA/iou/predict_iou/small\\no_aug_300\n",
      "\n",
      "Memproses model: aug_300\n",
      "Gambar: banjir_jpg.rf.950c421f52bc7c06dfe21e7ad33117ae.jpg | TP: 0, FP: 0, FN: 0 | Precision: 0.00, Recall: 0.00, F1: 0.00\n",
      "Gambar: genangan_rumput_jpg.rf.2a5ba86b223a8c9cce6eca7b8c3345ae.jpg | TP: 1, FP: 0, FN: 0 | Precision: 1.00, Recall: 1.00, F1: 1.00\n",
      "Gambar: jalan_batu_jpeg.rf.5eb09403644b6701b2026399b6b50508.jpg | TP: 6, FP: 0, FN: 3 | Precision: 1.00, Recall: 0.67, F1: 0.80\n",
      "Gambar: lubang_genangan_jpg.rf.9f235615ec131e8c3375b0b755dd56d8.jpg | TP: 1, FP: 0, FN: 0 | Precision: 1.00, Recall: 1.00, F1: 1.00\n",
      "Gambar: lubang_jpeg.rf.7b4f2c57e411fb82b55c670f4784c838.jpg | TP: 0, FP: 0, FN: 0 | Precision: 0.00, Recall: 0.00, F1: 0.00\n",
      "Hasil disimpan di folder: E:/Project TA/iou/predict_iou/small\\aug_300\n"
     ]
    }
   ],
   "source": [
    "for model_name, model in models.items():\n",
    "    print(f\"\\nMemproses model: {model_name}\")\n",
    "    save_dir = os.path.join(output_dir, model_name)\n",
    "    os.makedirs(save_dir, exist_ok=True)\n",
    "\n",
    "    for image_file in os.listdir(images_dir):\n",
    "        if not image_file.lower().endswith(('.jpg', '.jpeg', '.png')):\n",
    "            continue\n",
    "\n",
    "        image_path = os.path.join(images_dir, image_file)\n",
    "        label_path = os.path.join(labels_dir, os.path.splitext(image_file)[0] + \".txt\")\n",
    "\n",
    "        frame = cv2.imread(image_path)\n",
    "        if frame is None:\n",
    "            print(f\"Gagal baca gambar: {image_path}\")\n",
    "            continue\n",
    "\n",
    "        height, width, _ = frame.shape\n",
    "        frame_copy = frame.copy()\n",
    "\n",
    "        # === Ground Truth ===\n",
    "        ground_truth = []\n",
    "        if os.path.exists(label_path):\n",
    "            with open(label_path, \"r\") as f:\n",
    "                for line in f.readlines():\n",
    "                    values = list(map(float, line.split()))\n",
    "                    coords = np.array(values[1:]).reshape(-1, 2)\n",
    "                    coords[:, 0] *= width\n",
    "                    coords[:, 1] *= height\n",
    "                    ground_truth.append(coords.astype(int))\n",
    "        else:\n",
    "            continue\n",
    "\n",
    "        # === Predict ===\n",
    "        results = model.predict(frame, imgsz=640, conf=0.3, verbose=False)\n",
    "        result = results[0]\n",
    "\n",
    "        masks = result.masks.xy if result.masks is not None else []\n",
    "        predicted = [np.array(mask).astype(int) for mask in masks]\n",
    "\n",
    "        # === Hitung IoU ===\n",
    "        pairwise_ious = calculate_pairwise_iou_with_overlap_check(ground_truth, predicted, (height, width))\n",
    "\n",
    "        # === Deteksi FP dan FN ===\n",
    "        matched_gt_indices = set()\n",
    "        matched_pred_indices = set()\n",
    "\n",
    "        for gt, pred, _ in pairwise_ious:\n",
    "            gt_idx = ground_truth.index(gt)\n",
    "            pred_idx = predicted.index(pred)\n",
    "            matched_gt_indices.add(gt_idx)\n",
    "            matched_pred_indices.add(pred_idx)\n",
    "\n",
    "        fn_indices = [i for i in range(len(ground_truth)) if i not in matched_gt_indices]\n",
    "        fp_indices = [i for i in range(len(predicted)) if i not in matched_pred_indices]\n",
    "\n",
    "        # === Gambar semua ground truth (hijau) ===\n",
    "        for gt in ground_truth:\n",
    "            cv2.polylines(frame_copy, [gt], isClosed=True, color=(0, 255, 0), thickness=2)\n",
    "\n",
    "        # === Gambar semua prediksi (merah) ===\n",
    "        for pred in predicted:\n",
    "            cv2.polylines(frame_copy, [pred], isClosed=True, color=(0, 0, 255), thickness=2)\n",
    "\n",
    "        # === Tambah teks IoU hanya untuk pasangan TP ===\n",
    "        for gt, pred, iou in pairwise_ious:\n",
    "            center = np.mean(gt, axis=0).astype(int)\n",
    "            text = f\"IoU: {iou:.2f}\"\n",
    "            (font_w, font_h), _ = cv2.getTextSize(text, cv2.FONT_HERSHEY_SIMPLEX, 0.6, 1)\n",
    "            x, y = center\n",
    "            cv2.rectangle(frame_copy, (x, y - font_h - 4), (x + font_w + 4, y + 4), (255, 255, 255), -1)\n",
    "            cv2.putText(frame_copy, text, (x + 2, y), cv2.FONT_HERSHEY_SIMPLEX, 0.6, (0, 0, 0), 2)\n",
    "\n",
    "        # === Evaluasi metrik ===\n",
    "        TP = len(pairwise_ious)\n",
    "        FP = len(fp_indices)\n",
    "        FN = len(fn_indices)\n",
    "\n",
    "        precision = TP / (TP + FP) if (TP + FP) > 0 else 0\n",
    "        recall = TP / (TP + FN) if (TP + FN) > 0 else 0\n",
    "        f1 = 2 * precision * recall / (precision + recall) if (precision + recall) > 0 else 0\n",
    "\n",
    "        print(f\"Gambar: {image_file} | TP: {TP}, FP: {FP}, FN: {FN} | Precision: {precision:.2f}, Recall: {recall:.2f}, F1: {f1:.2f}\")\n",
    "\n",
    "        # Simpan gambar hasil\n",
    "        save_path = os.path.join(save_dir, f\"{os.path.splitext(image_file)[0]}_iou.jpg\")\n",
    "        cv2.imwrite(save_path, frame_copy)\n",
    "\n",
    "    print(f\"Hasil disimpan di folder: {save_dir}\")"
   ]
  }
 ],
 "metadata": {
  "kernelspec": {
   "display_name": "Python 3",
   "language": "python",
   "name": "python3"
  },
  "language_info": {
   "codemirror_mode": {
    "name": "ipython",
    "version": 3
   },
   "file_extension": ".py",
   "mimetype": "text/x-python",
   "name": "python",
   "nbconvert_exporter": "python",
   "pygments_lexer": "ipython3",
   "version": "3.11.5"
  }
 },
 "nbformat": 4,
 "nbformat_minor": 5
}
